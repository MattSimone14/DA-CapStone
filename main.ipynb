{
 "cells": [
  {
   "cell_type": "code",
   "execution_count": null,
   "id": "de4d6521",
   "metadata": {},
   "outputs": [],
   "source": [
    "#Import what technolgies you need\n",
    "import pandas as pd\n"
   ]
  },
  {
   "cell_type": "code",
   "execution_count": null,
   "id": "678c55eb",
   "metadata": {},
   "outputs": [],
   "source": [
    "# Load the Datasets and Print how many rows and columns\n",
    "food_df = pd.read_csv(\"Louisville_Metro_KY_Inspection_Results_Food_Service_Establishments_1200720516040038198.csv\")\n",
    "gun_df = pd.read_csv(\"Gun_Violence_Data_3431704539549171373.csv\")\n",
    "\n",
    "print(\"Food Inspection Dataset:\")\n",
    "print(\"Shape:\", food_df.shape)\n",
    "\n",
    "print(\"\\nGun Violence Dataset:\")\n",
    "print(\"Shape:\", gun_df.shape)"
   ]
  },
  {
   "cell_type": "code",
   "execution_count": null,
   "id": "d0fd77ea",
   "metadata": {},
   "outputs": [],
   "source": []
  }
 ],
 "metadata": {
  "kernelspec": {
   "display_name": "Python 3",
   "language": "python",
   "name": "python3"
  },
  "language_info": {
   "codemirror_mode": {
    "name": "ipython",
    "version": 3
   },
   "file_extension": ".py",
   "mimetype": "text/x-python",
   "name": "python",
   "nbconvert_exporter": "python",
   "pygments_lexer": "ipython3",
   "version": "3.13.1"
  }
 },
 "nbformat": 4,
 "nbformat_minor": 5
}
