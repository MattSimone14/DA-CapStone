{
 "cells": [
  {
   "cell_type": "code",
   "execution_count": null,
   "id": "de4d6521",
   "metadata": {},
   "outputs": [],
   "source": [
    "#Import what technolgies you need\n",
    "import pandas as pd\n",
    "import numpy as np\n",
    "import matplotlib.pyplot as plt\n",
    "import seaborn as sns\n",
    "import sqlite3\n"
   ]
  },
  {
   "cell_type": "code",
   "execution_count": null,
   "id": "678c55eb",
   "metadata": {},
   "outputs": [],
   "source": [
    "# Load the Datasets\n",
    "food_df = pd.read_csv(\"Louisville_Metro_KY_Inspection_Results_Food_Service_Establishments_1200720516040038198.csv\")\n",
    "gun_df = pd.read_csv(\"Gun_Violence_Data_3431704539549171373.csv\")"
   ]
  },
  {
   "cell_type": "code",
   "execution_count": null,
   "id": "481876ac",
   "metadata": {},
   "outputs": [],
   "source": [
    "#Show EDA of raw data\n",
    "def data_overview(df: pd.DataFrame, name: str) -> None:\n",
    "    print(f\"{name}\")\n",
    "    print(\"Shape:\", df.shape)\n",
    "    print(\"\\nColumn Types:\")\n",
    "    print(df.dtypes)\n",
    "    print(\"\\nMissing Values:\")\n",
    "    print(df.isnull().sum())\n",
    "    print(\"\\nFirst 5 Rows:\")\n",
    "    print(df.head())\n",
    "    print(\"\\nSummary Statistics:\")\n",
    "    print(df.describe(include='all'))"
   ]
  },
  {
   "cell_type": "code",
   "execution_count": null,
   "id": "96118573",
   "metadata": {},
   "outputs": [],
   "source": [
    "#using EDA function to see data\n",
    "data_overview(food_df, \"Food Inspection Data\")\n",
    "data_overview(gun_df, \"Gun Violence Data\")"
   ]
  },
  {
   "cell_type": "code",
   "execution_count": null,
   "id": "6ad585cf",
   "metadata": {},
   "outputs": [],
   "source": [
    "#Clean Food Data\n",
    "def clean_food_df(df: pd.DataFrame) -> pd.DataFrame:\n",
    "    # Make a copy of Food Data\n",
    "    df = df.copy()\n",
    "\n",
    "    # Column names are lowercase and replace spaces with underscores\n",
    "    df.columns = df.columns.str.lower().str.replace(' ', '_')\n",
    "\n",
    "    # Add a new column 'zip_code' from 'premise_zip' and format it as 5-digit strings\n",
    "    df['zip_code'] = df['premise_zip'].astype(str).str.zfill(5)\n",
    "\n",
    "    # Change 'daterecent' and 'opening_date' to proper datetime format\n",
    "    df['daterecent'] = pd.to_datetime(df['daterecent'], errors='coerce')\n",
    "    df['opening_date'] = pd.to_datetime(df['opening_date'], errors='coerce')\n",
    "\n",
    "    # Remove missing values from specific columns\n",
    "    df = df.dropna(subset=['scorerecent', 'graderecent', 'zip_code', 'daterecent'])\n",
    "\n",
    "    # Replace blanks or missing with 'Unknown' and format text for 'facility_type'\n",
    "    df['facility_type'] = df['facility_type'].replace('', np.nan)\n",
    "    df['facility_type'] = df['facility_type'].fillna('Unknown')\n",
    "    df['facility_type'] = df['facility_type'].astype(str).str.strip().str.title()\n",
    "\n",
    "    # Fill missing city and state values with 'Unknown'\n",
    "    df['premise_city'] = df['premise_city'].fillna('Unknown')\n",
    "    df['premise_state'] = df['premise_state'].fillna('Unknown')\n",
    "\n",
    "    # Fill missing facility names with 'Unnamed Facility'\n",
    "    df['premise_name'] = df['premise_name'].fillna('Unnamed Facility')\n",
    "\n",
    "    # Remove rows missing address information\n",
    "    df = df.dropna(subset=['premise_address'])\n",
    "\n",
    "    # Keep only inspections from 2020 onward\n",
    "    df = df[df['daterecent'] >= pd.Timestamp('2020-01-01')]\n",
    "\n",
    "    # Reset the index and return the cleaned DataFrame\n",
    "    return df.reset_index(drop=True)"
   ]
  },
  {
   "cell_type": "code",
   "execution_count": null,
   "id": "f1d21bfe",
   "metadata": {},
   "outputs": [],
   "source": [
    "#Clean Gun Data\n",
    "def clean_gun_df(df: pd.DataFrame) -> pd.DataFrame:\n",
    "    # Make a copy of Gun Data\n",
    "    df = df.copy()\n",
    "\n",
    "    # Column names are lowercase and replace spaces with underscores\n",
    "    df.columns = df.columns.str.lower().str.replace(' ', '_')\n",
    "\n",
    "    # Format ZIP codes as 5-digit strings\n",
    "    df['zip_code'] = df['zip_code'].astype(str).str.zfill(5)\n",
    "\n",
    "    # Convert the 'datetime' column to datetime format\n",
    "    df['datetime'] = pd.to_datetime(df['datetime'], errors='coerce')\n",
    "\n",
    "    # Remove missing values from specific columns\n",
    "    df = df.dropna(subset=['zip_code', 'datetime', 'latitude', 'longitude', 'crime_type'])\n",
    "\n",
    "    # Fill missing or blank values with 'Unknown'\n",
    "    for col in ['sex', 'race', 'age_group']:\n",
    "        df[col] = df[col].replace('', np.nan)            # Replace empty strings with NaN\n",
    "        df[col] = df[col].fillna('Unknown')              # Fill NaN with 'Unknown'\n",
    "        df[col] = df[col].astype(str).str.strip().str.title()  # Format text nicely\n",
    "\n",
    "    # Fill missing neighborhood names with 'Unknown'\n",
    "    df['neighborhood'] = df['neighborhood'].fillna('Unknown')\n",
    "\n",
    "    # Fill missing cause descriptions with 'Unknown'\n",
    "    df['cause'] = df['cause'].fillna('Unknown')\n",
    "\n",
    "    # Keep only rows with incidents from 2020 onward\n",
    "    df = df[df['datetime'] >= pd.Timestamp('2020-01-01')]\n",
    "\n",
    "    # Create a new column for the hour of the day (0–23) from the datetime\n",
    "    df['hour_of_day'] = df['datetime'].dt.hour\n",
    "\n",
    "    # Reset the index and return the cleaned DataFrame\n",
    "    return df.reset_index(drop=True)"
   ]
  }
 ],
 "metadata": {
  "kernelspec": {
   "display_name": "Python 3",
   "language": "python",
   "name": "python3"
  },
  "language_info": {
   "codemirror_mode": {
    "name": "ipython",
    "version": 3
   },
   "file_extension": ".py",
   "mimetype": "text/x-python",
   "name": "python",
   "nbconvert_exporter": "python",
   "pygments_lexer": "ipython3",
   "version": "3.13.1"
  }
 },
 "nbformat": 4,
 "nbformat_minor": 5
}
