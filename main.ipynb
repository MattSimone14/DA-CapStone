{
 "cells": [
  {
   "cell_type": "code",
   "execution_count": null,
   "id": "de4d6521",
   "metadata": {},
   "outputs": [],
   "source": [
    "#Import what technolgies you need\n",
    "import pandas as pd\n",
    "import matplotlib.pyplot as plt\n",
    "import seaborn as sns"
   ]
  },
  {
   "cell_type": "code",
   "execution_count": null,
   "id": "678c55eb",
   "metadata": {},
   "outputs": [],
   "source": [
    "# Load the Datasets\n",
    "food_df = pd.read_csv(\"Louisville_Metro_KY_Inspection_Results_Food_Service_Establishments_1200720516040038198.csv\")\n",
    "gun_df = pd.read_csv(\"Gun_Violence_Data_3431704539549171373.csv\")\n",
    "\n",
    "#Print how many rows and columns\n",
    "print(\"Food Inspection Dataset:\")\n",
    "print(\"Shape:\", food_df.shape)\n",
    "\n",
    "print(\"\\nGun Violence Dataset:\")\n",
    "print(\"Shape:\", gun_df.shape)"
   ]
  },
  {
   "cell_type": "code",
   "execution_count": null,
   "id": "481876ac",
   "metadata": {},
   "outputs": [],
   "source": [
    "##Exploratory Data Analysis (EDA)\n",
    "\n",
    "#Defining Datasets\n",
    "datasets = {\n",
    "    \"Food Data\": food_df,\n",
    "    \"Gun Violence Data\": gun_df\n",
    "}\n",
    "\n",
    "#Head & tail of rows, Column names, null values, data types, basic numeric statistics\n",
    "def explore_dataset(df, name):\n",
    "    print(f\"\\nDataset: {name}\")\n",
    "    print(\"First 3 Rows:\\n\", df.head(3))\n",
    "    print(\"\\nLast 3 Rows:\\n\", df.tail(3))\n",
    "    print(\"\\nColumn Names:\\n\", list(df.columns))\n",
    "    print(\"\\nNull Value Count:\\n\", df.isnull().sum())\n",
    "    print(\"\\nData Types:\\n\", df.dtypes)\n",
    "    print(\"\\nNumeric Summary:\\n\", df.describe())\n",
    "\n",
    "#Loop through the datasets \n",
    "for name, df in datasets.items():\n",
    "    explore_dataset(df, name)"
   ]
  }
 ],
 "metadata": {
  "kernelspec": {
   "display_name": "Python 3",
   "language": "python",
   "name": "python3"
  },
  "language_info": {
   "codemirror_mode": {
    "name": "ipython",
    "version": 3
   },
   "file_extension": ".py",
   "mimetype": "text/x-python",
   "name": "python",
   "nbconvert_exporter": "python",
   "pygments_lexer": "ipython3",
   "version": "3.13.1"
  }
 },
 "nbformat": 4,
 "nbformat_minor": 5
}
